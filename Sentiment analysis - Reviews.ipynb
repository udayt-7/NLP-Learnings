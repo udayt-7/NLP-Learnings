{
 "cells": [
  {
   "cell_type": "code",
   "execution_count": 2,
   "metadata": {},
   "outputs": [],
   "source": [
    "import pandas as pd\n",
    "import numpy as np\n",
    "import string\n",
    "import sklearn\n",
    "import datetime as dt\n",
    "import matplotlib.pyplot as plt\n",
    "import itertools"
   ]
  },
  {
   "cell_type": "code",
   "execution_count": 3,
   "metadata": {},
   "outputs": [],
   "source": [
    "from nltk import word_tokenize\n",
    "from nltk.corpus import stopwords\n",
    "from nltk.stem.wordnet import WordNetLemmatizer"
   ]
  },
  {
   "cell_type": "code",
   "execution_count": 22,
   "metadata": {},
   "outputs": [],
   "source": [
    "from sklearn.linear_model import LogisticRegression\n",
    "from sklearn.model_selection import train_test_split, cross_val_score\n",
    "from sklearn.metrics import accuracy_score, confusion_matrix, f1_score\n",
    "from sklearn.feature_extraction.text import CountVectorizer, TfidfVectorizer\n"
   ]
  },
  {
   "cell_type": "code",
   "execution_count": null,
   "metadata": {},
   "outputs": [],
   "source": []
  },
  {
   "cell_type": "code",
   "execution_count": 5,
   "metadata": {},
   "outputs": [
    {
     "data": {
      "text/html": [
       "<div>\n",
       "<style scoped>\n",
       "    .dataframe tbody tr th:only-of-type {\n",
       "        vertical-align: middle;\n",
       "    }\n",
       "\n",
       "    .dataframe tbody tr th {\n",
       "        vertical-align: top;\n",
       "    }\n",
       "\n",
       "    .dataframe thead th {\n",
       "        text-align: right;\n",
       "    }\n",
       "</style>\n",
       "<table border=\"1\" class=\"dataframe\">\n",
       "  <thead>\n",
       "    <tr style=\"text-align: right;\">\n",
       "      <th></th>\n",
       "      <th>Phone Name</th>\n",
       "      <th>Customer Name</th>\n",
       "      <th>Review Title</th>\n",
       "      <th>Rating</th>\n",
       "      <th>Review</th>\n",
       "    </tr>\n",
       "  </thead>\n",
       "  <tbody>\n",
       "    <tr>\n",
       "      <th>0</th>\n",
       "      <td>Samsung Galaxy M21 (Midnight Blue, 4GB RAM, 64...</td>\n",
       "      <td>Rupa Ray</td>\n",
       "      <td>Best Budget Phone In India</td>\n",
       "      <td>5.0 out of 5 stars</td>\n",
       "      <td>Brilliant camera, huge battery life and bril...</td>\n",
       "    </tr>\n",
       "    <tr>\n",
       "      <th>1</th>\n",
       "      <td>Samsung Galaxy M21 (Midnight Blue, 4GB RAM, 64...</td>\n",
       "      <td>Cv Vineeth</td>\n",
       "      <td>Value For Money !! Go for it</td>\n",
       "      <td>4.0 out of 5 stars</td>\n",
       "      <td>Review after 3 Day..1. Battery :- 5/5Two day...</td>\n",
       "    </tr>\n",
       "    <tr>\n",
       "      <th>2</th>\n",
       "      <td>Samsung Galaxy M21 (Midnight Blue, 4GB RAM, 64...</td>\n",
       "      <td>Rakesh s.</td>\n",
       "      <td>❤️❤️❤️❤️</td>\n",
       "      <td>5.0 out of 5 stars</td>\n",
       "      <td>As a title it is obviously a monsterAnd very...</td>\n",
       "    </tr>\n",
       "    <tr>\n",
       "      <th>3</th>\n",
       "      <td>Samsung Galaxy M21 (Midnight Blue, 4GB RAM, 64...</td>\n",
       "      <td>Ganapam Venkateswara Reddy</td>\n",
       "      <td>More than 5star,best budget mobile in India.</td>\n",
       "      <td>5.0 out of 5 stars</td>\n",
       "      <td>I love this one, and this is best in class, ...</td>\n",
       "    </tr>\n",
       "    <tr>\n",
       "      <th>4</th>\n",
       "      <td>Samsung Galaxy M21 (Midnight Blue, 4GB RAM, 64...</td>\n",
       "      <td>Ravi Kumar</td>\n",
       "      <td>Battery life is not upto mark</td>\n",
       "      <td>3.0 out of 5 stars</td>\n",
       "      <td>I am writing my review after using it for 6 ...</td>\n",
       "    </tr>\n",
       "  </tbody>\n",
       "</table>\n",
       "</div>"
      ],
      "text/plain": [
       "                                          Phone Name  \\\n",
       "0  Samsung Galaxy M21 (Midnight Blue, 4GB RAM, 64...   \n",
       "1  Samsung Galaxy M21 (Midnight Blue, 4GB RAM, 64...   \n",
       "2  Samsung Galaxy M21 (Midnight Blue, 4GB RAM, 64...   \n",
       "3  Samsung Galaxy M21 (Midnight Blue, 4GB RAM, 64...   \n",
       "4  Samsung Galaxy M21 (Midnight Blue, 4GB RAM, 64...   \n",
       "\n",
       "                Customer Name                                  Review Title  \\\n",
       "0                    Rupa Ray                    Best Budget Phone In India   \n",
       "1                  Cv Vineeth                  Value For Money !! Go for it   \n",
       "2                   Rakesh s.                                      ❤️❤️❤️❤️   \n",
       "3  Ganapam Venkateswara Reddy  More than 5star,best budget mobile in India.   \n",
       "4                  Ravi Kumar                 Battery life is not upto mark   \n",
       "\n",
       "               Rating                                             Review  \n",
       "0  5.0 out of 5 stars    Brilliant camera, huge battery life and bril...  \n",
       "1  4.0 out of 5 stars    Review after 3 Day..1. Battery :- 5/5Two day...  \n",
       "2  5.0 out of 5 stars    As a title it is obviously a monsterAnd very...  \n",
       "3  5.0 out of 5 stars    I love this one, and this is best in class, ...  \n",
       "4  3.0 out of 5 stars    I am writing my review after using it for 6 ...  "
      ]
     },
     "execution_count": 5,
     "metadata": {},
     "output_type": "execute_result"
    }
   ],
   "source": [
    "data = pd.read_excel('Ph_data.xlsx')\n",
    "data.head()"
   ]
  },
  {
   "cell_type": "code",
   "execution_count": 6,
   "metadata": {},
   "outputs": [
    {
     "data": {
      "text/plain": [
       "0"
      ]
     },
     "execution_count": 6,
     "metadata": {},
     "output_type": "execute_result"
    }
   ],
   "source": [
    "len(data) - len(data.dropna())\n"
   ]
  },
  {
   "cell_type": "code",
   "execution_count": 7,
   "metadata": {},
   "outputs": [],
   "source": [
    "data = data.dropna()\n"
   ]
  },
  {
   "cell_type": "code",
   "execution_count": 8,
   "metadata": {},
   "outputs": [
    {
     "data": {
      "text/html": [
       "<div>\n",
       "<style scoped>\n",
       "    .dataframe tbody tr th:only-of-type {\n",
       "        vertical-align: middle;\n",
       "    }\n",
       "\n",
       "    .dataframe tbody tr th {\n",
       "        vertical-align: top;\n",
       "    }\n",
       "\n",
       "    .dataframe thead th {\n",
       "        text-align: right;\n",
       "    }\n",
       "</style>\n",
       "<table border=\"1\" class=\"dataframe\">\n",
       "  <thead>\n",
       "    <tr style=\"text-align: right;\">\n",
       "      <th></th>\n",
       "      <th>Phone Name</th>\n",
       "      <th>Customer Name</th>\n",
       "      <th>Review Title</th>\n",
       "      <th>Rating</th>\n",
       "      <th>Review</th>\n",
       "    </tr>\n",
       "  </thead>\n",
       "  <tbody>\n",
       "    <tr>\n",
       "      <th>0</th>\n",
       "      <td>Samsung Galaxy M21 (Midnight Blue, 4GB RAM, 64...</td>\n",
       "      <td>Rupa Ray</td>\n",
       "      <td>Best Budget Phone In India</td>\n",
       "      <td>5</td>\n",
       "      <td>Brilliant camera, huge battery life and bril...</td>\n",
       "    </tr>\n",
       "    <tr>\n",
       "      <th>1</th>\n",
       "      <td>Samsung Galaxy M21 (Midnight Blue, 4GB RAM, 64...</td>\n",
       "      <td>Cv Vineeth</td>\n",
       "      <td>Value For Money !! Go for it</td>\n",
       "      <td>4</td>\n",
       "      <td>Review after 3 Day..1. Battery :- 5/5Two day...</td>\n",
       "    </tr>\n",
       "    <tr>\n",
       "      <th>2</th>\n",
       "      <td>Samsung Galaxy M21 (Midnight Blue, 4GB RAM, 64...</td>\n",
       "      <td>Rakesh s.</td>\n",
       "      <td>❤️❤️❤️❤️</td>\n",
       "      <td>5</td>\n",
       "      <td>As a title it is obviously a monsterAnd very...</td>\n",
       "    </tr>\n",
       "    <tr>\n",
       "      <th>3</th>\n",
       "      <td>Samsung Galaxy M21 (Midnight Blue, 4GB RAM, 64...</td>\n",
       "      <td>Ganapam Venkateswara Reddy</td>\n",
       "      <td>More than 5star,best budget mobile in India.</td>\n",
       "      <td>5</td>\n",
       "      <td>I love this one, and this is best in class, ...</td>\n",
       "    </tr>\n",
       "    <tr>\n",
       "      <th>4</th>\n",
       "      <td>Samsung Galaxy M21 (Midnight Blue, 4GB RAM, 64...</td>\n",
       "      <td>Ravi Kumar</td>\n",
       "      <td>Battery life is not upto mark</td>\n",
       "      <td>3</td>\n",
       "      <td>I am writing my review after using it for 6 ...</td>\n",
       "    </tr>\n",
       "    <tr>\n",
       "      <th>...</th>\n",
       "      <td>...</td>\n",
       "      <td>...</td>\n",
       "      <td>...</td>\n",
       "      <td>...</td>\n",
       "      <td>...</td>\n",
       "    </tr>\n",
       "    <tr>\n",
       "      <th>284</th>\n",
       "      <td>Apple iPhone 11 (64GB) - Purple</td>\n",
       "      <td>Amazon Customer</td>\n",
       "      <td>Worst Experience Ever.!</td>\n",
       "      <td>1</td>\n",
       "      <td>My Phone is Producing Too Much Heat Even Did...</td>\n",
       "    </tr>\n",
       "    <tr>\n",
       "      <th>285</th>\n",
       "      <td>Apple iPhone 11 (64GB) - Purple</td>\n",
       "      <td>Satyapal singh</td>\n",
       "      <td>iPhone 11</td>\n",
       "      <td>1</td>\n",
       "      <td>Defective product,got heat up within 5 minut...</td>\n",
       "    </tr>\n",
       "    <tr>\n",
       "      <th>286</th>\n",
       "      <td>Apple iPhone 11 (64GB) - Purple</td>\n",
       "      <td>Gurmeet singh</td>\n",
       "      <td>Defective Iphone 11</td>\n",
       "      <td>1</td>\n",
       "      <td>The product i got was defective . The face i...</td>\n",
       "    </tr>\n",
       "    <tr>\n",
       "      <th>287</th>\n",
       "      <td>Apple iPhone 11 (64GB) - Purple</td>\n",
       "      <td>Ghar Sayan</td>\n",
       "      <td>Best iPhone ever | Super Night Mode | Super Ca...</td>\n",
       "      <td>5</td>\n",
       "      <td>In my opinion, don’t  think much about the p...</td>\n",
       "    </tr>\n",
       "    <tr>\n",
       "      <th>288</th>\n",
       "      <td>Apple iPhone 11 (64GB) - Purple</td>\n",
       "      <td>Krusshna</td>\n",
       "      <td>Don’t buy it from this seller</td>\n",
       "      <td>1</td>\n",
       "      <td>Bought the mobile from appario retail ltd. M...</td>\n",
       "    </tr>\n",
       "  </tbody>\n",
       "</table>\n",
       "<p>289 rows × 5 columns</p>\n",
       "</div>"
      ],
      "text/plain": [
       "                                            Phone Name  \\\n",
       "0    Samsung Galaxy M21 (Midnight Blue, 4GB RAM, 64...   \n",
       "1    Samsung Galaxy M21 (Midnight Blue, 4GB RAM, 64...   \n",
       "2    Samsung Galaxy M21 (Midnight Blue, 4GB RAM, 64...   \n",
       "3    Samsung Galaxy M21 (Midnight Blue, 4GB RAM, 64...   \n",
       "4    Samsung Galaxy M21 (Midnight Blue, 4GB RAM, 64...   \n",
       "..                                                 ...   \n",
       "284                    Apple iPhone 11 (64GB) - Purple   \n",
       "285                    Apple iPhone 11 (64GB) - Purple   \n",
       "286                    Apple iPhone 11 (64GB) - Purple   \n",
       "287                    Apple iPhone 11 (64GB) - Purple   \n",
       "288                    Apple iPhone 11 (64GB) - Purple   \n",
       "\n",
       "                  Customer Name  \\\n",
       "0                      Rupa Ray   \n",
       "1                    Cv Vineeth   \n",
       "2                     Rakesh s.   \n",
       "3    Ganapam Venkateswara Reddy   \n",
       "4                    Ravi Kumar   \n",
       "..                          ...   \n",
       "284             Amazon Customer   \n",
       "285              Satyapal singh   \n",
       "286               Gurmeet singh   \n",
       "287                  Ghar Sayan   \n",
       "288                    Krusshna   \n",
       "\n",
       "                                          Review Title  Rating  \\\n",
       "0                           Best Budget Phone In India       5   \n",
       "1                         Value For Money !! Go for it       4   \n",
       "2                                             ❤️❤️❤️❤️       5   \n",
       "3         More than 5star,best budget mobile in India.       5   \n",
       "4                        Battery life is not upto mark       3   \n",
       "..                                                 ...     ...   \n",
       "284                            Worst Experience Ever.!       1   \n",
       "285                                          iPhone 11       1   \n",
       "286                                Defective Iphone 11       1   \n",
       "287  Best iPhone ever | Super Night Mode | Super Ca...       5   \n",
       "288                      Don’t buy it from this seller       1   \n",
       "\n",
       "                                                Review  \n",
       "0      Brilliant camera, huge battery life and bril...  \n",
       "1      Review after 3 Day..1. Battery :- 5/5Two day...  \n",
       "2      As a title it is obviously a monsterAnd very...  \n",
       "3      I love this one, and this is best in class, ...  \n",
       "4      I am writing my review after using it for 6 ...  \n",
       "..                                                 ...  \n",
       "284    My Phone is Producing Too Much Heat Even Did...  \n",
       "285    Defective product,got heat up within 5 minut...  \n",
       "286    The product i got was defective . The face i...  \n",
       "287    In my opinion, don’t  think much about the p...  \n",
       "288    Bought the mobile from appario retail ltd. M...  \n",
       "\n",
       "[289 rows x 5 columns]"
      ]
     },
     "execution_count": 8,
     "metadata": {},
     "output_type": "execute_result"
    }
   ],
   "source": [
    "data['Rating'] = [string[:1] for string in data['Rating']]\n",
    "data[\"Rating\"] = pd.to_numeric(data[\"Rating\"])\n",
    "data\n"
   ]
  },
  {
   "cell_type": "code",
   "execution_count": 9,
   "metadata": {},
   "outputs": [],
   "source": [
    "reviews = data['Review']"
   ]
  },
  {
   "cell_type": "code",
   "execution_count": 10,
   "metadata": {},
   "outputs": [],
   "source": [
    "for i in range(0,len(data)-1):\n",
    "    if type(data.iloc[i]['Review']) != str:\n",
    "        data.iloc[i]['Review'] = str(data.iloc[i]['Review'])"
   ]
  },
  {
   "cell_type": "code",
   "execution_count": 11,
   "metadata": {},
   "outputs": [],
   "source": [
    "stops = stopwords.words('english')\n",
    "\n",
    "def tokenize(text):\n",
    "    tokenized = word_tokenize(text)\n",
    "    no_punc = []\n",
    "    for review in tokenized:\n",
    "        line = \"\".join(char for char in review if char not in string.punctuation)\n",
    "        no_punc.append(line)\n",
    "    tokens = lemmatize(no_punc)\n",
    "    return tokens\n",
    "\n",
    "\n",
    "def lemmatize(tokens):\n",
    "    lmtzr = WordNetLemmatizer()\n",
    "    lemma = [lmtzr.lemmatize(t) for t in tokens]\n",
    "    return lemma"
   ]
  },
  {
   "cell_type": "code",
   "execution_count": 12,
   "metadata": {},
   "outputs": [],
   "source": [
    "reviews = reviews.apply(lambda x: tokenize(x))\n"
   ]
  },
  {
   "cell_type": "code",
   "execution_count": 13,
   "metadata": {},
   "outputs": [
    {
     "data": {
      "text/plain": [
       "0      [Brilliant, camera, , huge, battery, life, and...\n",
       "1      [Review, after, 3, Day, , 1, , Battery, , , 55...\n",
       "2      [As, a, title, it, is, obviously, a, monsterAn...\n",
       "3      [I, love, this, one, , and, this, is, best, in...\n",
       "4      [I, am, writing, my, review, after, using, it,...\n",
       "                             ...                        \n",
       "284    [My, Phone, is, Producing, Too, Much, Heat, Ev...\n",
       "285    [Defective, product, , got, heat, up, within, ...\n",
       "286    [The, product, i, got, wa, defective, , The, f...\n",
       "287    [In, my, opinion, , don, ’, t, think, much, ab...\n",
       "288    [Bought, the, mobile, from, appario, retail, l...\n",
       "Name: Review, Length: 289, dtype: object"
      ]
     },
     "execution_count": 13,
     "metadata": {},
     "output_type": "execute_result"
    }
   ],
   "source": [
    "reviews"
   ]
  },
  {
   "cell_type": "code",
   "execution_count": null,
   "metadata": {},
   "outputs": [],
   "source": []
  },
  {
   "cell_type": "code",
   "execution_count": 14,
   "metadata": {},
   "outputs": [],
   "source": [
    "def transform_sentiment(x):\n",
    "    if x <= 2:\n",
    "        return 'Negative'\n",
    "    else:\n",
    "        return 'Positive'\n",
    "\n",
    "data['Sentiment'] = data['Rating'].apply(lambda x: transform_sentiment(x))"
   ]
  },
  {
   "cell_type": "code",
   "execution_count": 15,
   "metadata": {},
   "outputs": [
    {
     "data": {
      "text/plain": [
       "39"
      ]
     },
     "execution_count": 15,
     "metadata": {},
     "output_type": "execute_result"
    }
   ],
   "source": [
    "data['Phone Name'].nunique()"
   ]
  },
  {
   "cell_type": "code",
   "execution_count": 16,
   "metadata": {},
   "outputs": [
    {
     "data": {
      "text/html": [
       "<div>\n",
       "<style scoped>\n",
       "    .dataframe tbody tr th:only-of-type {\n",
       "        vertical-align: middle;\n",
       "    }\n",
       "\n",
       "    .dataframe tbody tr th {\n",
       "        vertical-align: top;\n",
       "    }\n",
       "\n",
       "    .dataframe thead th {\n",
       "        text-align: right;\n",
       "    }\n",
       "</style>\n",
       "<table border=\"1\" class=\"dataframe\">\n",
       "  <thead>\n",
       "    <tr style=\"text-align: right;\">\n",
       "      <th></th>\n",
       "      <th>Phone Name</th>\n",
       "      <th>Customer Name</th>\n",
       "      <th>Review Title</th>\n",
       "      <th>Rating</th>\n",
       "      <th>Review</th>\n",
       "      <th>Sentiment</th>\n",
       "    </tr>\n",
       "  </thead>\n",
       "  <tbody>\n",
       "    <tr>\n",
       "      <th>0</th>\n",
       "      <td>Samsung Galaxy M21 (Midnight Blue, 4GB RAM, 64...</td>\n",
       "      <td>Rupa Ray</td>\n",
       "      <td>Best Budget Phone In India</td>\n",
       "      <td>5</td>\n",
       "      <td>Brilliant camera, huge battery life and bril...</td>\n",
       "      <td>Positive</td>\n",
       "    </tr>\n",
       "    <tr>\n",
       "      <th>1</th>\n",
       "      <td>Samsung Galaxy M21 (Midnight Blue, 4GB RAM, 64...</td>\n",
       "      <td>Cv Vineeth</td>\n",
       "      <td>Value For Money !! Go for it</td>\n",
       "      <td>4</td>\n",
       "      <td>Review after 3 Day..1. Battery :- 5/5Two day...</td>\n",
       "      <td>Positive</td>\n",
       "    </tr>\n",
       "    <tr>\n",
       "      <th>2</th>\n",
       "      <td>Samsung Galaxy M21 (Midnight Blue, 4GB RAM, 64...</td>\n",
       "      <td>Rakesh s.</td>\n",
       "      <td>❤️❤️❤️❤️</td>\n",
       "      <td>5</td>\n",
       "      <td>As a title it is obviously a monsterAnd very...</td>\n",
       "      <td>Positive</td>\n",
       "    </tr>\n",
       "    <tr>\n",
       "      <th>3</th>\n",
       "      <td>Samsung Galaxy M21 (Midnight Blue, 4GB RAM, 64...</td>\n",
       "      <td>Ganapam Venkateswara Reddy</td>\n",
       "      <td>More than 5star,best budget mobile in India.</td>\n",
       "      <td>5</td>\n",
       "      <td>I love this one, and this is best in class, ...</td>\n",
       "      <td>Positive</td>\n",
       "    </tr>\n",
       "    <tr>\n",
       "      <th>4</th>\n",
       "      <td>Samsung Galaxy M21 (Midnight Blue, 4GB RAM, 64...</td>\n",
       "      <td>Ravi Kumar</td>\n",
       "      <td>Battery life is not upto mark</td>\n",
       "      <td>3</td>\n",
       "      <td>I am writing my review after using it for 6 ...</td>\n",
       "      <td>Positive</td>\n",
       "    </tr>\n",
       "    <tr>\n",
       "      <th>...</th>\n",
       "      <td>...</td>\n",
       "      <td>...</td>\n",
       "      <td>...</td>\n",
       "      <td>...</td>\n",
       "      <td>...</td>\n",
       "      <td>...</td>\n",
       "    </tr>\n",
       "    <tr>\n",
       "      <th>284</th>\n",
       "      <td>Apple iPhone 11 (64GB) - Purple</td>\n",
       "      <td>Amazon Customer</td>\n",
       "      <td>Worst Experience Ever.!</td>\n",
       "      <td>1</td>\n",
       "      <td>My Phone is Producing Too Much Heat Even Did...</td>\n",
       "      <td>Negative</td>\n",
       "    </tr>\n",
       "    <tr>\n",
       "      <th>285</th>\n",
       "      <td>Apple iPhone 11 (64GB) - Purple</td>\n",
       "      <td>Satyapal singh</td>\n",
       "      <td>iPhone 11</td>\n",
       "      <td>1</td>\n",
       "      <td>Defective product,got heat up within 5 minut...</td>\n",
       "      <td>Negative</td>\n",
       "    </tr>\n",
       "    <tr>\n",
       "      <th>286</th>\n",
       "      <td>Apple iPhone 11 (64GB) - Purple</td>\n",
       "      <td>Gurmeet singh</td>\n",
       "      <td>Defective Iphone 11</td>\n",
       "      <td>1</td>\n",
       "      <td>The product i got was defective . The face i...</td>\n",
       "      <td>Negative</td>\n",
       "    </tr>\n",
       "    <tr>\n",
       "      <th>287</th>\n",
       "      <td>Apple iPhone 11 (64GB) - Purple</td>\n",
       "      <td>Ghar Sayan</td>\n",
       "      <td>Best iPhone ever | Super Night Mode | Super Ca...</td>\n",
       "      <td>5</td>\n",
       "      <td>In my opinion, don’t  think much about the p...</td>\n",
       "      <td>Positive</td>\n",
       "    </tr>\n",
       "    <tr>\n",
       "      <th>288</th>\n",
       "      <td>Apple iPhone 11 (64GB) - Purple</td>\n",
       "      <td>Krusshna</td>\n",
       "      <td>Don’t buy it from this seller</td>\n",
       "      <td>1</td>\n",
       "      <td>Bought the mobile from appario retail ltd. M...</td>\n",
       "      <td>Negative</td>\n",
       "    </tr>\n",
       "  </tbody>\n",
       "</table>\n",
       "<p>289 rows × 6 columns</p>\n",
       "</div>"
      ],
      "text/plain": [
       "                                            Phone Name  \\\n",
       "0    Samsung Galaxy M21 (Midnight Blue, 4GB RAM, 64...   \n",
       "1    Samsung Galaxy M21 (Midnight Blue, 4GB RAM, 64...   \n",
       "2    Samsung Galaxy M21 (Midnight Blue, 4GB RAM, 64...   \n",
       "3    Samsung Galaxy M21 (Midnight Blue, 4GB RAM, 64...   \n",
       "4    Samsung Galaxy M21 (Midnight Blue, 4GB RAM, 64...   \n",
       "..                                                 ...   \n",
       "284                    Apple iPhone 11 (64GB) - Purple   \n",
       "285                    Apple iPhone 11 (64GB) - Purple   \n",
       "286                    Apple iPhone 11 (64GB) - Purple   \n",
       "287                    Apple iPhone 11 (64GB) - Purple   \n",
       "288                    Apple iPhone 11 (64GB) - Purple   \n",
       "\n",
       "                  Customer Name  \\\n",
       "0                      Rupa Ray   \n",
       "1                    Cv Vineeth   \n",
       "2                     Rakesh s.   \n",
       "3    Ganapam Venkateswara Reddy   \n",
       "4                    Ravi Kumar   \n",
       "..                          ...   \n",
       "284             Amazon Customer   \n",
       "285              Satyapal singh   \n",
       "286               Gurmeet singh   \n",
       "287                  Ghar Sayan   \n",
       "288                    Krusshna   \n",
       "\n",
       "                                          Review Title  Rating  \\\n",
       "0                           Best Budget Phone In India       5   \n",
       "1                         Value For Money !! Go for it       4   \n",
       "2                                             ❤️❤️❤️❤️       5   \n",
       "3         More than 5star,best budget mobile in India.       5   \n",
       "4                        Battery life is not upto mark       3   \n",
       "..                                                 ...     ...   \n",
       "284                            Worst Experience Ever.!       1   \n",
       "285                                          iPhone 11       1   \n",
       "286                                Defective Iphone 11       1   \n",
       "287  Best iPhone ever | Super Night Mode | Super Ca...       5   \n",
       "288                      Don’t buy it from this seller       1   \n",
       "\n",
       "                                                Review Sentiment  \n",
       "0      Brilliant camera, huge battery life and bril...  Positive  \n",
       "1      Review after 3 Day..1. Battery :- 5/5Two day...  Positive  \n",
       "2      As a title it is obviously a monsterAnd very...  Positive  \n",
       "3      I love this one, and this is best in class, ...  Positive  \n",
       "4      I am writing my review after using it for 6 ...  Positive  \n",
       "..                                                 ...       ...  \n",
       "284    My Phone is Producing Too Much Heat Even Did...  Negative  \n",
       "285    Defective product,got heat up within 5 minut...  Negative  \n",
       "286    The product i got was defective . The face i...  Negative  \n",
       "287    In my opinion, don’t  think much about the p...  Positive  \n",
       "288    Bought the mobile from appario retail ltd. M...  Negative  \n",
       "\n",
       "[289 rows x 6 columns]"
      ]
     },
     "execution_count": 16,
     "metadata": {},
     "output_type": "execute_result"
    }
   ],
   "source": [
    "data"
   ]
  },
  {
   "cell_type": "code",
   "execution_count": 20,
   "metadata": {},
   "outputs": [
    {
     "name": "stdout",
     "output_type": "stream",
     "text": [
      "x_train shape: (216,)\n",
      "y_train shape: (216,)\n",
      "x_test shape: (73,)\n",
      "y_test shape: (73,)\n"
     ]
    }
   ],
   "source": [
    "x_train, x_test, y_train, y_test = train_test_split(data.Review, data.Sentiment, random_state=0)\n",
    "print(\"x_train shape:\", x_train.shape)\n",
    "print(\"y_train shape:\", y_train.shape)\n",
    "print(\"x_test shape:\", x_test.shape)\n",
    "print(\"y_test shape:\", y_test.shape)"
   ]
  },
  {
   "cell_type": "code",
   "execution_count": 23,
   "metadata": {},
   "outputs": [],
   "source": [
    "\n",
    "vectorizer = CountVectorizer(min_df=5).fit(x_train)\n",
    "X_train = vectorizer.transform(x_train)\n",
    "feature_names = vectorizer.get_feature_names()\n",
    "scores = cross_val_score(LogisticRegression(max_iter = 1000), X_train, y_train, cv=5)"
   ]
  },
  {
   "cell_type": "code",
   "execution_count": 33,
   "metadata": {},
   "outputs": [],
   "source": [
    "logreg = LogisticRegression(C=0.1).fit(X_train, y_train)\n",
    "X_test = vectorizer.transform(x_test)\n",
    "log_y_pred = logreg.predict(X_test)"
   ]
  },
  {
   "cell_type": "code",
   "execution_count": 34,
   "metadata": {},
   "outputs": [
    {
     "data": {
      "text/plain": [
       "array(['Positive', 'Negative', 'Negative', 'Positive', 'Negative',\n",
       "       'Positive', 'Negative', 'Negative', 'Positive', 'Positive',\n",
       "       'Negative', 'Positive', 'Positive', 'Negative', 'Negative',\n",
       "       'Negative', 'Positive', 'Negative', 'Positive', 'Negative',\n",
       "       'Positive', 'Negative', 'Positive', 'Positive', 'Positive',\n",
       "       'Positive', 'Negative', 'Negative', 'Negative', 'Negative',\n",
       "       'Positive', 'Positive', 'Positive', 'Negative', 'Positive',\n",
       "       'Positive', 'Positive', 'Positive', 'Positive', 'Negative',\n",
       "       'Positive', 'Positive', 'Positive', 'Positive', 'Negative',\n",
       "       'Negative', 'Positive', 'Negative', 'Positive', 'Positive',\n",
       "       'Positive', 'Positive', 'Positive', 'Negative', 'Positive',\n",
       "       'Positive', 'Negative', 'Negative', 'Negative', 'Positive',\n",
       "       'Positive', 'Positive', 'Positive', 'Negative', 'Negative',\n",
       "       'Positive', 'Negative', 'Positive', 'Positive', 'Positive',\n",
       "       'Negative', 'Positive', 'Positive'], dtype=object)"
      ]
     },
     "execution_count": 34,
     "metadata": {},
     "output_type": "execute_result"
    }
   ],
   "source": [
    "log_y_pred"
   ]
  },
  {
   "cell_type": "code",
   "execution_count": 35,
   "metadata": {},
   "outputs": [
    {
     "name": "stdout",
     "output_type": "stream",
     "text": [
      "Accuracy: 0.9315068493150684\n"
     ]
    }
   ],
   "source": [
    "logreg_score = accuracy_score(y_test, log_y_pred)\n",
    "print(\"Accuracy:\", logreg_score)\n"
   ]
  },
  {
   "cell_type": "code",
   "execution_count": 36,
   "metadata": {},
   "outputs": [
    {
     "name": "stdout",
     "output_type": "stream",
     "text": [
      "Training set score: 0.9583333333333334\n",
      "Test set score: 0.9315068493150684\n"
     ]
    }
   ],
   "source": [
    "print(\"Training set score:\", logreg.score(X_train, y_train))\n",
    "print(\"Test set score:\", logreg.score(X_test, y_test))\n"
   ]
  },
  {
   "cell_type": "code",
   "execution_count": 37,
   "metadata": {},
   "outputs": [
    {
     "name": "stdout",
     "output_type": "stream",
     "text": [
      "Confusion matrix:\n",
      "[[26  2]\n",
      " [ 3 42]]\n",
      "\n",
      "[['TN' 'FP']\n",
      " ['FN' 'TP']]\n"
     ]
    }
   ],
   "source": [
    "log_cfm = confusion_matrix(y_test, log_y_pred)\n",
    "print(\"Confusion matrix:\")\n",
    "print(log_cfm, end='\\n\\n')\n",
    "\n",
    "print(np.array([['TN', 'FP'],[ 'FN' , 'TP']]))"
   ]
  },
  {
   "cell_type": "code",
   "execution_count": 38,
   "metadata": {},
   "outputs": [
    {
     "name": "stdout",
     "output_type": "stream",
     "text": [
      "Training set score:  0.9583333333333334\n",
      "Test set score: 0.9315068493150684\n"
     ]
    }
   ],
   "source": [
    "print(\"Training set score: \", logreg.score(X_train, y_train))\n",
    "print(\"Test set score:\", logreg.score(X_test, y_test))\n"
   ]
  },
  {
   "cell_type": "code",
   "execution_count": 39,
   "metadata": {},
   "outputs": [],
   "source": [
    "log_y_pred_prob = logreg.predict_proba(X_test)"
   ]
  },
  {
   "cell_type": "code",
   "execution_count": 40,
   "metadata": {},
   "outputs": [
    {
     "data": {
      "text/plain": [
       "array([[0.15711265, 0.84288735],\n",
       "       [0.88326959, 0.11673041],\n",
       "       [0.54538865, 0.45461135],\n",
       "       [0.25545002, 0.74454998],\n",
       "       [0.74941717, 0.25058283],\n",
       "       [0.126427  , 0.873573  ],\n",
       "       [0.69185633, 0.30814367],\n",
       "       [0.66441502, 0.33558498],\n",
       "       [0.22868782, 0.77131218],\n",
       "       [0.19141601, 0.80858399],\n",
       "       [0.66441502, 0.33558498],\n",
       "       [0.16088774, 0.83911226],\n",
       "       [0.05323196, 0.94676804],\n",
       "       [0.78611539, 0.21388461],\n",
       "       [0.66761704, 0.33238296],\n",
       "       [0.74941717, 0.25058283],\n",
       "       [0.16403899, 0.83596101],\n",
       "       [0.98596644, 0.01403356],\n",
       "       [0.17808487, 0.82191513],\n",
       "       [0.72218994, 0.27781006],\n",
       "       [0.10240622, 0.89759378],\n",
       "       [0.95442364, 0.04557636],\n",
       "       [0.17808487, 0.82191513],\n",
       "       [0.33743569, 0.66256431],\n",
       "       [0.05323196, 0.94676804],\n",
       "       [0.47102951, 0.52897049],\n",
       "       [0.93240866, 0.06759134],\n",
       "       [0.8356768 , 0.1643232 ],\n",
       "       [0.66441502, 0.33558498],\n",
       "       [0.90039602, 0.09960398],\n",
       "       [0.05565054, 0.94434946],\n",
       "       [0.20522068, 0.79477932],\n",
       "       [0.01478779, 0.98521221],\n",
       "       [0.66761704, 0.33238296],\n",
       "       [0.31775008, 0.68224992],\n",
       "       [0.04191834, 0.95808166],\n",
       "       [0.06176108, 0.93823892],\n",
       "       [0.06391318, 0.93608682],\n",
       "       [0.22868782, 0.77131218],\n",
       "       [0.94444539, 0.05555461],\n",
       "       [0.15887711, 0.84112289],\n",
       "       [0.11255253, 0.88744747],\n",
       "       [0.34035256, 0.65964744],\n",
       "       [0.20112434, 0.79887566],\n",
       "       [0.90993624, 0.09006376],\n",
       "       [0.74593083, 0.25406917],\n",
       "       [0.07178715, 0.92821285],\n",
       "       [0.81364298, 0.18635702],\n",
       "       [0.00185636, 0.99814364],\n",
       "       [0.05340205, 0.94659795],\n",
       "       [0.22868782, 0.77131218],\n",
       "       [0.0136616 , 0.9863384 ],\n",
       "       [0.35791319, 0.64208681],\n",
       "       [0.98596644, 0.01403356],\n",
       "       [0.12700248, 0.87299752],\n",
       "       [0.05261638, 0.94738362],\n",
       "       [0.88326959, 0.11673041],\n",
       "       [0.66441502, 0.33558498],\n",
       "       [0.72218994, 0.27781006],\n",
       "       [0.16088774, 0.83911226],\n",
       "       [0.33740072, 0.66259928],\n",
       "       [0.19141601, 0.80858399],\n",
       "       [0.02349269, 0.97650731],\n",
       "       [0.75872873, 0.24127127],\n",
       "       [0.90039602, 0.09960398],\n",
       "       [0.126427  , 0.873573  ],\n",
       "       [0.74593083, 0.25406917],\n",
       "       [0.11255253, 0.88744747],\n",
       "       [0.01322571, 0.98677429],\n",
       "       [0.3078701 , 0.6921299 ],\n",
       "       [0.66761704, 0.33238296],\n",
       "       [0.09632459, 0.90367541],\n",
       "       [0.3078701 , 0.6921299 ]])"
      ]
     },
     "execution_count": 40,
     "metadata": {},
     "output_type": "execute_result"
    }
   ],
   "source": [
    "log_y_pred_prob"
   ]
  },
  {
   "cell_type": "code",
   "execution_count": null,
   "metadata": {},
   "outputs": [],
   "source": [
    "log_y_pred"
   ]
  },
  {
   "cell_type": "code",
   "execution_count": null,
   "metadata": {},
   "outputs": [],
   "source": []
  },
  {
   "cell_type": "code",
   "execution_count": null,
   "metadata": {},
   "outputs": [],
   "source": []
  },
  {
   "cell_type": "code",
   "execution_count": null,
   "metadata": {},
   "outputs": [],
   "source": []
  },
  {
   "cell_type": "code",
   "execution_count": null,
   "metadata": {},
   "outputs": [],
   "source": []
  },
  {
   "cell_type": "code",
   "execution_count": null,
   "metadata": {},
   "outputs": [],
   "source": []
  },
  {
   "cell_type": "code",
   "execution_count": null,
   "metadata": {},
   "outputs": [],
   "source": []
  }
 ],
 "metadata": {
  "kernelspec": {
   "display_name": "Python 3",
   "language": "python",
   "name": "python3"
  },
  "language_info": {
   "codemirror_mode": {
    "name": "ipython",
    "version": 3
   },
   "file_extension": ".py",
   "mimetype": "text/x-python",
   "name": "python",
   "nbconvert_exporter": "python",
   "pygments_lexer": "ipython3",
   "version": "3.8.3"
  }
 },
 "nbformat": 4,
 "nbformat_minor": 4
}
