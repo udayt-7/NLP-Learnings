{
 "cells": [
  {
   "cell_type": "code",
   "execution_count": 1,
   "metadata": {},
   "outputs": [
    {
     "name": "stdout",
     "output_type": "stream",
     "text": [
      "0 1\n",
      "1 2\n",
      "2 3\n",
      "3 4\n",
      "4 5\n",
      "5 6\n",
      "6 7\n"
     ]
    }
   ],
   "source": [
    "# Enumerator\n",
    "\n",
    "num = [1,2,3,4,5,6,7]\n",
    "for i, n in enumerate(num):\n",
    "    print(i, n)"
   ]
  },
  {
   "cell_type": "code",
   "execution_count": 10,
   "metadata": {},
   "outputs": [],
   "source": [
    "def square(x):\n",
    "    return x*x"
   ]
  },
  {
   "cell_type": "code",
   "execution_count": 4,
   "metadata": {},
   "outputs": [
    {
     "data": {
      "text/plain": [
       "[1, 4, 9, 16, 25, 36, 49]"
      ]
     },
     "execution_count": 4,
     "metadata": {},
     "output_type": "execute_result"
    }
   ],
   "source": [
    "#MAP\n",
    "list(map(square, num))"
   ]
  },
  {
   "cell_type": "code",
   "execution_count": 8,
   "metadata": {},
   "outputs": [
    {
     "data": {
      "text/plain": [
       "[1, 4, 9, 16, 25, 36, 49]"
      ]
     },
     "execution_count": 8,
     "metadata": {},
     "output_type": "execute_result"
    }
   ],
   "source": [
    "#LC\n",
    "[square(x) for x in num]"
   ]
  },
  {
   "cell_type": "code",
   "execution_count": 11,
   "metadata": {},
   "outputs": [
    {
     "data": {
      "text/plain": [
       "[1, 2, 3, 4, 5, 6, 7]"
      ]
     },
     "execution_count": 11,
     "metadata": {},
     "output_type": "execute_result"
    }
   ],
   "source": [
    "#filter\n",
    "list(filter(square, num))"
   ]
  },
  {
   "cell_type": "code",
   "execution_count": 15,
   "metadata": {},
   "outputs": [
    {
     "data": {
      "text/plain": [
       "[1, 2, 3, 4, 5, 6, 7]"
      ]
     },
     "execution_count": 15,
     "metadata": {},
     "output_type": "execute_result"
    }
   ],
   "source": [
    "sorted(num)"
   ]
  },
  {
   "cell_type": "code",
   "execution_count": 18,
   "metadata": {},
   "outputs": [
    {
     "data": {
      "text/plain": [
       "[456, 67, 55, 43, 32, 12, 9, 5, 2, 2, 1]"
      ]
     },
     "execution_count": 18,
     "metadata": {},
     "output_type": "execute_result"
    }
   ],
   "source": [
    "sorted([9,12,55,2,5,2,43,456,67,32,1], reverse= True)"
   ]
  },
  {
   "cell_type": "code",
   "execution_count": 17,
   "metadata": {},
   "outputs": [
    {
     "data": {
      "text/plain": [
       "['bear', 'cat', 'cheetah', 'dog', 'rhino']"
      ]
     },
     "execution_count": 17,
     "metadata": {},
     "output_type": "execute_result"
    }
   ],
   "source": [
    "sorted(['cat', 'dog', 'cheetah', 'rhino', 'bear'])"
   ]
  },
  {
   "cell_type": "code",
   "execution_count": 22,
   "metadata": {},
   "outputs": [
    {
     "data": {
      "text/plain": [
       "[{'Name': 'Step', 'Age': 14, 'Place': 'AUS'},\n",
       " {'Name': 'Uday', 'Age': 24, 'Place': 'Ind'},\n",
       " {'Name': 'Xeo', 'Age': 34, 'Place': 'US'}]"
      ]
     },
     "execution_count": 22,
     "metadata": {},
     "output_type": "execute_result"
    }
   ],
   "source": [
    "details = [ {'Name':'Uday', 'Age':24, 'Place': 'Ind'},\n",
    "            {'Name':'Xeo', 'Age':34, 'Place': 'US'},\n",
    "            {'Name':'Step', 'Age':14, 'Place': 'AUS'} ]\n",
    "\n",
    "sorted(details, key = lambda animal : animal['Age'])"
   ]
  },
  {
   "cell_type": "code",
   "execution_count": 32,
   "metadata": {},
   "outputs": [
    {
     "data": {
      "text/plain": [
       "{'all', 'in', 'the', 'words', 'world'}"
      ]
     },
     "execution_count": 32,
     "metadata": {},
     "output_type": "execute_result"
    }
   ],
   "source": [
    "import random\n",
    "all_words = \"all the words in the world\".split()\n",
    "def get_random_word():\n",
    "    return random.choice(all_words)\n",
    "\n",
    "def get_words():\n",
    "    words = []\n",
    "    for i in range(100):\n",
    "        words.append(get_random_word())\n",
    "    return set(words)\n",
    "get_words()\n",
    "\n"
   ]
  },
  {
   "cell_type": "code",
   "execution_count": 33,
   "metadata": {},
   "outputs": [
    {
     "data": {
      "text/plain": [
       "{'all', 'in', 'the', 'words', 'world'}"
      ]
     },
     "execution_count": 33,
     "metadata": {},
     "output_type": "execute_result"
    }
   ],
   "source": [
    "def get_better_words():\n",
    "    word = set()\n",
    "    for i in range(100):\n",
    "        word.add(get_random_word())\n",
    "    return word\n",
    "get_better_words()"
   ]
  },
  {
   "cell_type": "code",
   "execution_count": 34,
   "metadata": {},
   "outputs": [
    {
     "data": {
      "text/plain": [
       "[32, 1, 2, 67, 5, 456, 9, 43, 12, 55]"
      ]
     },
     "execution_count": 34,
     "metadata": {},
     "output_type": "execute_result"
    }
   ],
   "source": [
    "repe = [9,12,55,2,5,2,43,456,67,32,1]\n",
    "repe = set(repe)\n",
    "repe = list(repe)\n",
    "repe"
   ]
  },
  {
   "cell_type": "code",
   "execution_count": 2,
   "metadata": {},
   "outputs": [
    {
     "data": {
      "text/plain": [
       "['uday']"
      ]
     },
     "execution_count": 2,
     "metadata": {},
     "output_type": "execute_result"
    }
   ],
   "source": [
    "li = 'uday'.split()\n",
    "li"
   ]
  },
  {
   "cell_type": "code",
   "execution_count": 45,
   "metadata": {},
   "outputs": [
    {
     "data": {
      "text/plain": [
       "['u', 's', 'a']"
      ]
     },
     "execution_count": 45,
     "metadata": {},
     "output_type": "execute_result"
    }
   ],
   "source": [
    "def split(text): \n",
    "    return [char for char in text]\n",
    "\n",
    "split('usa')"
   ]
  },
  {
   "cell_type": "code",
   "execution_count": 48,
   "metadata": {},
   "outputs": [
    {
     "data": {
      "text/plain": [
       "Counter({'The': 2,\n",
       "         'Thus': 2,\n",
       "         'This': 1,\n",
       "         'What': 1,\n",
       "         'is': 1,\n",
       "         'you': 1,\n",
       "         'the': 1})"
      ]
     },
     "execution_count": 48,
     "metadata": {},
     "output_type": "execute_result"
    }
   ],
   "source": [
    "from collections import Counter\n",
    "words = 'The Thus The Thus This What is you the'.split()\n",
    "counts = Counter(words)\n",
    "counts"
   ]
  },
  {
   "cell_type": "code",
   "execution_count": 51,
   "metadata": {},
   "outputs": [
    {
     "data": {
      "text/plain": [
       "True"
      ]
     },
     "execution_count": 51,
     "metadata": {},
     "output_type": "execute_result"
    }
   ],
   "source": [
    "str1 = 'malayalam'\n",
    "str2 = str1[::-1]\n",
    "str1 == str2"
   ]
  },
  {
   "cell_type": "code",
   "execution_count": 75,
   "metadata": {},
   "outputs": [
    {
     "name": "stdout",
     "output_type": "stream",
     "text": [
      "[1, 4, 16, 36, 64]\n",
      "[2, 5, 9, 13, 17]\n",
      "[2, 4, 6]\n",
      "28\n"
     ]
    }
   ],
   "source": [
    "#MAP\n",
    "\n",
    "a = list(map(lambda a: a**2, [1,2,4,6,8]))\n",
    "print(a)\n",
    "a_1 = list(map(lambda a, b: a+b, [1,2,4,6,8], [1,3,5,7,9]))\n",
    "print(a_1)\n",
    "\n",
    "#FILTER\n",
    "\n",
    "abc = [1,2,3,4,5,6,7]\n",
    "a_2 = list(filter(lambda x: (x%2 ==0), abc))\n",
    "print(a_2)\n",
    "\n",
    "#REDUCE\n",
    "\n",
    "from functools import reduce\n",
    "a_3 = reduce((lambda x,y: x+y), abc)\n",
    "print(a_3)"
   ]
  },
  {
   "cell_type": "code",
   "execution_count": 69,
   "metadata": {},
   "outputs": [
    {
     "name": "stdout",
     "output_type": "stream",
     "text": [
      "Prime\n"
     ]
    }
   ],
   "source": [
    "def primen(x):\n",
    "    if x>1:\n",
    "        for i in range(2, x//2):\n",
    "            if x%i == 0:\n",
    "                print('not prime')\n",
    "                break\n",
    "        else:\n",
    "                print('Prime')\n",
    "    else:\n",
    "        print(\"not prime\")\n",
    "primen(23)"
   ]
  },
  {
   "cell_type": "code",
   "execution_count": 72,
   "metadata": {},
   "outputs": [
    {
     "name": "stdout",
     "output_type": "stream",
     "text": [
      "120\n"
     ]
    }
   ],
   "source": [
    "def facto(x):\n",
    "    fact = 1\n",
    "    if num <= 0:\n",
    "        print(\"Error\")\n",
    "    elif num == 0:\n",
    "        print(\"factorial is 1\")\n",
    "    else:\n",
    "        for i in range(1, x+1):\n",
    "            fact = fact*i\n",
    "    print(fact)\n",
    "\n",
    "facto(5)"
   ]
  },
  {
   "cell_type": "code",
   "execution_count": 149,
   "metadata": {},
   "outputs": [
    {
     "data": {
      "text/plain": [
       "3"
      ]
     },
     "execution_count": 149,
     "metadata": {},
     "output_type": "execute_result"
    }
   ],
   "source": [
    "def fibo(n):\n",
    "    if n == 1 or n == 0:\n",
    "        return n\n",
    "    else:\n",
    "        return fibo(n-1) + fibo(n-2)\n",
    "fibo(4)"
   ]
  },
  {
   "cell_type": "code",
   "execution_count": 133,
   "metadata": {},
   "outputs": [
    {
     "name": "stdout",
     "output_type": "stream",
     "text": [
      "This is a new file \n",
      "\n",
      "Second line of new file\n",
      "\n",
      "This is the third line of new file\n"
     ]
    }
   ],
   "source": [
    "#File Operations\n",
    "import os\n",
    "\n",
    "#new file\n",
    "with open('new file.txt', 'w') as nf:\n",
    "    pass\n",
    "\n",
    "dir_list = os.listdir()\n",
    "dir_list\n",
    "\n",
    "#write in the file\n",
    "file1 = open('new file.txt', 'w')\n",
    "file1.write('This is a new file \\n')\n",
    "file1.write('Second line of new file')\n",
    "file1.close()\n",
    "\n",
    "#read file\n",
    "# file1 = open('new file.txt', 'r')\n",
    "\n",
    "# for text in file1:\n",
    "#     print(text)\n",
    "\n",
    "# print(file1.read(25))\n",
    "\n",
    "# f_txt = file1.readlines()\n",
    "# f_txt\n",
    "\n",
    "\n",
    "#Append\n",
    "\n",
    "file1 = open('new file.txt', 'a')\n",
    "file1.write(\"\\nThis is the third line of new file\")\n",
    "file1.close()\n",
    "\n",
    "#read file\n",
    "file1 = open('new file.txt', 'r')\n",
    "\n",
    "for text in file1:\n",
    "    print(text)\n",
    "\n",
    "\n"
   ]
  },
  {
   "cell_type": "code",
   "execution_count": 141,
   "metadata": {},
   "outputs": [
    {
     "name": "stdout",
     "output_type": "stream",
     "text": [
      "['This', 'is', 'a', 'new', 'file']\n",
      "['Second', 'line', 'of', 'new', 'file']\n",
      "['This', 'is', 'the', 'third', 'line', 'of', 'new', 'file']\n"
     ]
    }
   ],
   "source": [
    "with open('new file.txt', 'r') as f:\n",
    "    data = f.readlines()\n",
    "  \n",
    "    for line in data:\n",
    "        words = line.split()\n",
    "        print(words)"
   ]
  },
  {
   "cell_type": "code",
   "execution_count": 142,
   "metadata": {},
   "outputs": [
    {
     "name": "stdout",
     "output_type": "stream",
     "text": [
      "3\n"
     ]
    }
   ],
   "source": [
    "with open('new file.txt') as res:\n",
    "    count = 0\n",
    "    text = res.read()\n",
    "    for ch in text:\n",
    "        if ch.isupper():\n",
    "            count += 1\n",
    "    print(count)\n"
   ]
  },
  {
   "cell_type": "code",
   "execution_count": 146,
   "metadata": {},
   "outputs": [
    {
     "data": {
      "text/plain": [
       "['.ipynb_checkpoints',\n",
       " 'new file.txt',\n",
       " 'Py BAsics.ipynb',\n",
       " 'UDAY_T_ 2 PAGE.docx']"
      ]
     },
     "execution_count": 146,
     "metadata": {},
     "output_type": "execute_result"
    }
   ],
   "source": [
    "# os.remove('junk.txt')\n",
    "\n",
    "os.listdir()"
   ]
  },
  {
   "cell_type": "code",
   "execution_count": null,
   "metadata": {},
   "outputs": [],
   "source": [
    "li =[1,2,3,4,5]\n",
    "\n",
    "def rev1(li):\n",
    "    res = []\n",
    "    n = len(li)\n",
    "    for i in range(n):\n",
    "        print(li[i],li[n-1-i])\n",
    "        res.append(li[n-1-i])\n",
    "    return res\n",
    "print(rev1(li))"
   ]
  },
  {
   "cell_type": "code",
   "execution_count": null,
   "metadata": {},
   "outputs": [],
   "source": [
    "li =[1,2,3,4,5]\n",
    "\n",
    "\n",
    "def rev2(li):\n",
    "    rev = []\n",
    "    n = len(li)\n",
    "    for i in range(n):\n",
    "        rev.append(li[n-1-i])\n",
    "    return rev\n",
    "print(rev2(li))"
   ]
  },
  {
   "cell_type": "code",
   "execution_count": null,
   "metadata": {},
   "outputs": [],
   "source": [
    "\n",
    "li = [('w',1),('q',3),('a',2)]\n",
    "sorted(list(li))"
   ]
  },
  {
   "cell_type": "code",
   "execution_count": null,
   "metadata": {},
   "outputs": [],
   "source": [
    "a=(1,2)"
   ]
  },
  {
   "cell_type": "code",
   "execution_count": null,
   "metadata": {},
   "outputs": [],
   "source": [
    "list(a)"
   ]
  },
  {
   "cell_type": "code",
   "execution_count": null,
   "metadata": {},
   "outputs": [],
   "source": [
    "di = {'name':'uday','no':7 }\n",
    "d2 = {'name':'kumar','address':'bangalore'}"
   ]
  },
  {
   "cell_type": "code",
   "execution_count": null,
   "metadata": {},
   "outputs": [],
   "source": [
    "di['name']=di['name']+d2['name']\n",
    "di"
   ]
  },
  {
   "cell_type": "code",
   "execution_count": null,
   "metadata": {},
   "outputs": [],
   "source": []
  },
  {
   "cell_type": "code",
   "execution_count": null,
   "metadata": {},
   "outputs": [],
   "source": []
  },
  {
   "cell_type": "code",
   "execution_count": null,
   "metadata": {},
   "outputs": [],
   "source": []
  },
  {
   "cell_type": "code",
   "execution_count": null,
   "metadata": {},
   "outputs": [],
   "source": []
  }
 ],
 "metadata": {
  "kernelspec": {
   "display_name": "Python 3",
   "language": "python",
   "name": "python3"
  },
  "language_info": {
   "codemirror_mode": {
    "name": "ipython",
    "version": 3
   },
   "file_extension": ".py",
   "mimetype": "text/x-python",
   "name": "python",
   "nbconvert_exporter": "python",
   "pygments_lexer": "ipython3",
   "version": "3.8.3"
  }
 },
 "nbformat": 4,
 "nbformat_minor": 4
}
